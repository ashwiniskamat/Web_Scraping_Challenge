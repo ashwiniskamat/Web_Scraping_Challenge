{
 "cells": [
  {
   "cell_type": "code",
   "execution_count": 4,
   "metadata": {},
   "outputs": [],
   "source": [
    "# Import Dependencies / Setup\n",
    "from bs4 import BeautifulSoup\n",
    "import os\n",
    "from splinter import Browser\n",
    "import pandas as pd\n",
    "import time"
   ]
  },
  {
   "cell_type": "markdown",
   "metadata": {},
   "source": [
    "# Scraping"
   ]
  },
  {
   "cell_type": "markdown",
   "metadata": {},
   "source": [
    "### NASA Mars News"
   ]
  },
  {
   "cell_type": "code",
   "execution_count": 10,
   "metadata": {},
   "outputs": [
    {
     "name": "stdout",
     "output_type": "stream",
     "text": [
      "The news title is: NASA's Perseverance Pays Off Back Home\n",
      "The paragraph text is: Even as the Perseverance rover approaches Mars, technology on board is paying off on Earth.\n"
     ]
    }
   ],
   "source": [
    "mars_data = {}\n",
    "\n",
    "# Scraping using Splinter\n",
    "# create a browser instance to be used fro accessing websites and scraping. \n",
    "executable_path = {'executable_path': 'chromedriver'}\n",
    "browser = Browser('chrome', **executable_path, headless=False)\n",
    "\n",
    "# Scraping NASA Mars News\n",
    "# URL to be scraped. Visit the URL with the browser instance\n",
    "news_url = 'https://mars.nasa.gov/news/?page=0&per_page=40&order=publish_date+desc%2Ccreated_at+desc&search=&category=19%2C165%2C184%2C204&blank_scope=Latest'\n",
    "browser.visit(news_url)\n",
    "\n",
    "# Use BeautifulSoup to parse out needed information (html)\n",
    "html = browser.html\n",
    "#print(html)\n",
    "soup = BeautifulSoup(html,'html.parser')\n",
    "\n",
    "# Read the content_title. Skip the first one since it the page title \n",
    "news_titles=[]\n",
    "news_title=\"\"\n",
    "try:\n",
    "    news_titles = soup.find_all(\"div\",class_=\"content_title\")\n",
    "    for xx in news_titles:\n",
    "        try:\n",
    "            news_title = xx.text\n",
    "        except:\n",
    "            pass\n",
    "        # Skip this title since it is for the page\n",
    "        if news_title==\"Mars Now\":\n",
    "            continue\n",
    "        break      \n",
    "except Exception as e:\n",
    "    news_title = \"No news is not always good news\"\n",
    "    print(e)\n",
    "\n",
    "# retrieve the latest news snippet\n",
    "news_paragraph = \"\"\n",
    "try:\n",
    "    news_paragraph = soup.find(\"div\", class_=\"article_teaser_body\").text.strip()\n",
    "except Exception as e:\n",
    "    print(e)\n",
    "\n",
    "print(f\"The news title is: {news_title}\")\n",
    "print(f\"The paragraph text is: {news_paragraph}\")"
   ]
  },
  {
   "cell_type": "markdown",
   "metadata": {},
   "source": [
    "### Mars Facts "
   ]
  },
  {
   "cell_type": "code",
   "execution_count": 16,
   "metadata": {},
   "outputs": [
    {
     "data": {
      "text/html": [
       "<div>\n",
       "<style scoped>\n",
       "    .dataframe tbody tr th:only-of-type {\n",
       "        vertical-align: middle;\n",
       "    }\n",
       "\n",
       "    .dataframe tbody tr th {\n",
       "        vertical-align: top;\n",
       "    }\n",
       "\n",
       "    .dataframe thead th {\n",
       "        text-align: right;\n",
       "    }\n",
       "</style>\n",
       "<table border=\"1\" class=\"dataframe\">\n",
       "  <thead>\n",
       "    <tr style=\"text-align: right;\">\n",
       "      <th></th>\n",
       "      <th>Planet</th>\n",
       "      <th>Mars</th>\n",
       "    </tr>\n",
       "  </thead>\n",
       "  <tbody>\n",
       "    <tr>\n",
       "      <th>0</th>\n",
       "      <td>Equatorial Diameter:</td>\n",
       "      <td>6,792 km</td>\n",
       "    </tr>\n",
       "    <tr>\n",
       "      <th>1</th>\n",
       "      <td>Polar Diameter:</td>\n",
       "      <td>6,752 km</td>\n",
       "    </tr>\n",
       "    <tr>\n",
       "      <th>2</th>\n",
       "      <td>Mass:</td>\n",
       "      <td>6.39 × 10^23 kg (0.11 Earths)</td>\n",
       "    </tr>\n",
       "    <tr>\n",
       "      <th>3</th>\n",
       "      <td>Moons:</td>\n",
       "      <td>2 (Phobos &amp; Deimos)</td>\n",
       "    </tr>\n",
       "    <tr>\n",
       "      <th>4</th>\n",
       "      <td>Orbit Distance:</td>\n",
       "      <td>227,943,824 km (1.38 AU)</td>\n",
       "    </tr>\n",
       "    <tr>\n",
       "      <th>5</th>\n",
       "      <td>Orbit Period:</td>\n",
       "      <td>687 days (1.9 years)</td>\n",
       "    </tr>\n",
       "    <tr>\n",
       "      <th>6</th>\n",
       "      <td>Surface Temperature:</td>\n",
       "      <td>-87 to -5 °C</td>\n",
       "    </tr>\n",
       "    <tr>\n",
       "      <th>7</th>\n",
       "      <td>First Record:</td>\n",
       "      <td>2nd millennium BC</td>\n",
       "    </tr>\n",
       "    <tr>\n",
       "      <th>8</th>\n",
       "      <td>Recorded By:</td>\n",
       "      <td>Egyptian astronomers</td>\n",
       "    </tr>\n",
       "  </tbody>\n",
       "</table>\n",
       "</div>"
      ],
      "text/plain": [
       "                 Planet                           Mars\n",
       "0  Equatorial Diameter:                       6,792 km\n",
       "1       Polar Diameter:                       6,752 km\n",
       "2                 Mass:  6.39 × 10^23 kg (0.11 Earths)\n",
       "3                Moons:            2 (Phobos & Deimos)\n",
       "4       Orbit Distance:       227,943,824 km (1.38 AU)\n",
       "5         Orbit Period:           687 days (1.9 years)\n",
       "6  Surface Temperature:                   -87 to -5 °C\n",
       "7         First Record:              2nd millennium BC\n",
       "8          Recorded By:           Egyptian astronomers"
      ]
     },
     "execution_count": 16,
     "metadata": {},
     "output_type": "execute_result"
    }
   ],
   "source": [
    "# ### Mars Facts \n",
    "# URL to be scraped \"https://space-facts.com/mars/\"\n",
    "facts_url = \"https://space-facts.com/mars/\"\n",
    "\n",
    "# Use pandas to view table contents\n",
    "facts_table = pd.read_html(facts_url)\n",
    "facts_table\n",
    "\n",
    "facts_df = facts_table[0]\n",
    "facts_df.columns=['Planet', 'Mars']\n",
    "facts_df"
   ]
  },
  {
   "cell_type": "code",
   "execution_count": 17,
   "metadata": {},
   "outputs": [
    {
     "data": {
      "text/plain": [
       "'<table border=\"1\" class=\"dataframe table-bordered table-striped table-hover isi\">  <thead>    <tr style=\"text-align: right;\">      <th>Planet</th>      <th>Mars</th>    </tr>  </thead>  <tbody>    <tr>      <td>Equatorial Diameter:</td>      <td>6,792 km</td>    </tr>    <tr>      <td>Polar Diameter:</td>      <td>6,752 km</td>    </tr>    <tr>      <td>Mass:</td>      <td>6.39 × 10^23 kg (0.11 Earths)</td>    </tr>    <tr>      <td>Moons:</td>      <td>2 (Phobos &amp; Deimos)</td>    </tr>    <tr>      <td>Orbit Distance:</td>      <td>227,943,824 km (1.38 AU)</td>    </tr>    <tr>      <td>Orbit Period:</td>      <td>687 days (1.9 years)</td>    </tr>    <tr>      <td>Surface Temperature:</td>      <td>-87 to -5 °C</td>    </tr>    <tr>      <td>First Record:</td>      <td>2nd millennium BC</td>    </tr>    <tr>      <td>Recorded By:</td>      <td>Egyptian astronomers</td>    </tr>  </tbody></table>'"
      ]
     },
     "execution_count": 17,
     "metadata": {},
     "output_type": "execute_result"
    }
   ],
   "source": [
    "# Convert to html\n",
    "mars_facts = facts_df.to_html(index=False,index_names=False,classes=[\"table-bordered\", \"table-striped\", \"table-hover\", \"isi\"])\n",
    "mars_facts.replace('\\n', '')"
   ]
  },
  {
   "cell_type": "markdown",
   "metadata": {},
   "source": [
    "### Mars Hemispheres "
   ]
  },
  {
   "cell_type": "code",
   "execution_count": 24,
   "metadata": {},
   "outputs": [
    {
     "data": {
      "text/plain": [
       "[{'title': 'Cerberus Hemisphere Enhanced',\n",
       "  'img_url': 'https://astropedia.astrogeology.usgs.gov/download/Mars/Viking/cerberus_enhanced.tif/full.jpg'},\n",
       " {'title': 'Schiaparelli Hemisphere Enhanced',\n",
       "  'img_url': 'https://astropedia.astrogeology.usgs.gov/download/Mars/Viking/schiaparelli_enhanced.tif/full.jpg'},\n",
       " {'title': 'Syrtis Major Hemisphere Enhanced',\n",
       "  'img_url': 'https://astropedia.astrogeology.usgs.gov/download/Mars/Viking/syrtis_major_enhanced.tif/full.jpg'},\n",
       " {'title': 'Valles Marineris Hemisphere Enhanced',\n",
       "  'img_url': 'https://astropedia.astrogeology.usgs.gov/download/Mars/Viking/valles_marineris_enhanced.tif/full.jpg'}]"
      ]
     },
     "execution_count": 24,
     "metadata": {},
     "output_type": "execute_result"
    }
   ],
   "source": [
    "# Visit website displaying the hemispheres of Mars\n",
    "hemispheres_url = 'https://astrogeology.usgs.gov/search/results?q=hemisphere+enhanced&k1=target&v1=Mars'\n",
    "browser.visit(hemispheres_url)\n",
    "\n",
    "# Parse HTML\n",
    "html_hemispheres = browser.html\n",
    "time.sleep(2)\n",
    "soup = BeautifulSoup(html_hemispheres,'html.parser')\n",
    "\n",
    "# Pull hemispheres information\n",
    "info = soup.find_all('a', class_='itemLink product-item')\n",
    "\n",
    "# Start empty list for the URLs\n",
    "hemisphere_images_urls = []\n",
    "\n",
    "# Loop through the items previously stored\n",
    "for i in info: \n",
    "    # Store title\n",
    "    h3_text = \"\"\n",
    "    try:\n",
    "        h3_text =  i.find('h3').text\n",
    "    except Exception as e:\n",
    "        #print(e)\n",
    "        pass\n",
    "    \n",
    "    # Skip the images without a title to avoid duplicates\n",
    "    if h3_text == '' :\n",
    "        continue\n",
    "\n",
    "    # Store link\n",
    "    item_link=\"\"\n",
    "    try:\n",
    "        item_link = i.get('href')\n",
    "    except Exception as e:\n",
    "        #print(e)\n",
    "        pass\n",
    "    \n",
    "    # Skip the images without a link\n",
    "    if item_link == '' :\n",
    "        continue\n",
    "\n",
    "    # Visit the link that contains the full image website \n",
    "    hemispheres_url = f\"https://astrogeology.usgs.gov{item_link}\"\n",
    "    browser.visit(hemispheres_url)\n",
    "    html_hemispheres = browser.html\n",
    "    time.sleep(1)\n",
    "\n",
    "    # Parse HTML for each individual hemisphere \n",
    "    soup = BeautifulSoup(html_hemispheres, 'html.parser')\n",
    "\n",
    "    title=\"\"\n",
    "    try:\n",
    "        title = soup.find('h2', class_='title').text.strip()\n",
    "    except Exception as e:\n",
    "        #print(e)\n",
    "        pass\n",
    "\n",
    "    # Get the img\n",
    "    img_urls=[]\n",
    "    img_url=\"\"\n",
    "    try: \n",
    "        img_urls = soup.find_all(\"a\", text=\"Sample\")\n",
    "        for img_link in img_urls:         \n",
    "            img_url =img_link.get('href')\n",
    "            break;\n",
    "    except Exception as e:\n",
    "        #print(e)\n",
    "        pass\n",
    "\n",
    "    # Retrieve image source \n",
    "    # Append the retreived information into a list of dictionaries \n",
    "    hemisphere_images_urls.append({\"title\" : title, \"img_url\" : img_url})\n",
    "\n",
    "hemisphere_images_urls"
   ]
  },
  {
   "cell_type": "code",
   "execution_count": 25,
   "metadata": {},
   "outputs": [
    {
     "data": {
      "text/plain": [
       "{'news_title': \"NASA's Perseverance Pays Off Back Home\",\n",
       " 'news_paragraph': 'Even as the Perseverance rover approaches Mars, technology on board is paying off on Earth.',\n",
       " 'hemisphere_images_urls': [{'title': 'Cerberus Hemisphere Enhanced',\n",
       "   'img_url': 'https://astropedia.astrogeology.usgs.gov/download/Mars/Viking/cerberus_enhanced.tif/full.jpg'},\n",
       "  {'title': 'Schiaparelli Hemisphere Enhanced',\n",
       "   'img_url': 'https://astropedia.astrogeology.usgs.gov/download/Mars/Viking/schiaparelli_enhanced.tif/full.jpg'},\n",
       "  {'title': 'Syrtis Major Hemisphere Enhanced',\n",
       "   'img_url': 'https://astropedia.astrogeology.usgs.gov/download/Mars/Viking/syrtis_major_enhanced.tif/full.jpg'},\n",
       "  {'title': 'Valles Marineris Hemisphere Enhanced',\n",
       "   'img_url': 'https://astropedia.astrogeology.usgs.gov/download/Mars/Viking/valles_marineris_enhanced.tif/full.jpg'}],\n",
       " 'mars_facts': '<table border=\"1\" class=\"dataframe table-bordered table-striped table-hover isi\">\\n  <thead>\\n    <tr style=\"text-align: right;\">\\n      <th>Planet</th>\\n      <th>Mars</th>\\n    </tr>\\n  </thead>\\n  <tbody>\\n    <tr>\\n      <td>Equatorial Diameter:</td>\\n      <td>6,792 km</td>\\n    </tr>\\n    <tr>\\n      <td>Polar Diameter:</td>\\n      <td>6,752 km</td>\\n    </tr>\\n    <tr>\\n      <td>Mass:</td>\\n      <td>6.39 × 10^23 kg (0.11 Earths)</td>\\n    </tr>\\n    <tr>\\n      <td>Moons:</td>\\n      <td>2 (Phobos &amp; Deimos)</td>\\n    </tr>\\n    <tr>\\n      <td>Orbit Distance:</td>\\n      <td>227,943,824 km (1.38 AU)</td>\\n    </tr>\\n    <tr>\\n      <td>Orbit Period:</td>\\n      <td>687 days (1.9 years)</td>\\n    </tr>\\n    <tr>\\n      <td>Surface Temperature:</td>\\n      <td>-87 to -5 °C</td>\\n    </tr>\\n    <tr>\\n      <td>First Record:</td>\\n      <td>2nd millennium BC</td>\\n    </tr>\\n    <tr>\\n      <td>Recorded By:</td>\\n      <td>Egyptian astronomers</td>\\n    </tr>\\n  </tbody>\\n</table>'}"
      ]
     },
     "execution_count": 25,
     "metadata": {},
     "output_type": "execute_result"
    }
   ],
   "source": [
    "# MongoDB\n",
    "\n",
    "# Store all scraped data into a dictionary for use by the template\n",
    "# Create empty dictionary\n",
    "mars_data = {}\n",
    "\n",
    "# Add information to dictionary\n",
    "mars_data['news_title'] = news_title\n",
    "mars_data['news_paragraph'] = news_paragraph\n",
    "\n",
    "# Add hemisphere_image_urls to mars_data.\n",
    "mars_data['hemisphere_images_urls'] = hemisphere_images_urls\n",
    "\n",
    "# Append mars_facts to mars_data.\n",
    "mars_data['mars_facts'] = mars_facts\n",
    "\n",
    "mars_data"
   ]
  },
  {
   "cell_type": "code",
   "execution_count": 26,
   "metadata": {},
   "outputs": [],
   "source": [
    "browser.quit()"
   ]
  }
 ],
 "metadata": {
  "kernelspec": {
   "display_name": "Python 3",
   "language": "python",
   "name": "python3"
  },
  "language_info": {
   "codemirror_mode": {
    "name": "ipython",
    "version": 3
   },
   "file_extension": ".py",
   "mimetype": "text/x-python",
   "name": "python",
   "nbconvert_exporter": "python",
   "pygments_lexer": "ipython3",
   "version": "3.8.3"
  }
 },
 "nbformat": 4,
 "nbformat_minor": 4
}
